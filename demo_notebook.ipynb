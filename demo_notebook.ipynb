{
 "cells": [
  {
   "cell_type": "code",
   "execution_count": 1,
   "metadata": {},
   "outputs": [],
   "source": [
    "import sys\n",
    "\n",
    "try:\n",
    "    sys.path.append('.')\n",
    "    import applelib as apl\n",
    "    import applelib.pieplot as plt\n",
    "finally:\n",
    "    sys.path.remove('.')"
   ]
  },
  {
   "cell_type": "markdown",
   "metadata": {},
   "source": [
    "# Applelib's two core APIs"
   ]
  },
  {
   "cell_type": "code",
   "execution_count": 2,
   "metadata": {},
   "outputs": [
    {
     "data": {
      "text/html": [
       "<font color=\"blue\"><tt>&nbsp&nbsp&nbsp&nbsp_&nbsp<br>&nbsp&nbsp&nbsp/&nbsp&nbsp<br>&nbsp####&nbsp<br>######<br>######<br>&nbsp####&nbsp</tt></font>"
      ],
      "text/plain": [
       "    _ \n",
       "   /  \n",
       " #### \n",
       "######\n",
       "######\n",
       " #### "
      ]
     },
     "execution_count": 2,
     "metadata": {},
     "output_type": "execute_result"
    }
   ],
   "source": [
    "# Emulation of matplotlib's Matlab inspired pyplot API.\n",
    "plt.color('blue')\n",
    "plt.show()"
   ]
  },
  {
   "cell_type": "code",
   "execution_count": 3,
   "metadata": {},
   "outputs": [
    {
     "data": {
      "text/html": [
       "<font color=\"green\"><tt>&nbsp&nbsp&nbsp&nbsp_&nbsp<br>&nbsp&nbsp&nbsp/&nbsp&nbsp<br>&nbsp####&nbsp<br>######<br>######<br>&nbsp####&nbsp</tt></font>"
      ],
      "text/plain": [
       "    _ \n",
       "   /  \n",
       " #### \n",
       "######\n",
       "######\n",
       " #### "
      ]
     },
     "execution_count": 3,
     "metadata": {},
     "output_type": "execute_result"
    }
   ],
   "source": [
    "# Emulation of matplotlib's object-oriented API\n",
    "# with Java-esque setters/getters\n",
    "granny_smith = apl.Apple()\n",
    "granny_smith.set_color('green')\n",
    "plt.show()"
   ]
  },
  {
   "cell_type": "markdown",
   "metadata": {},
   "source": [
    "# Is there a better way?\n",
    "\n",
    "Yes: just use Python's properties to set and get."
   ]
  },
  {
   "cell_type": "code",
   "execution_count": 4,
   "metadata": {},
   "outputs": [],
   "source": [
    "try:\n",
    "    sys.path.append('.')\n",
    "    from applelib.experimental.v1 import NewApple\n",
    "    from applelib.experimental.v2 import AltNewApple\n",
    "finally:\n",
    "    sys.path.remove('.')"
   ]
  },
  {
   "cell_type": "code",
   "execution_count": 5,
   "metadata": {},
   "outputs": [
    {
     "data": {
      "text/html": [
       "<font color=\"pink\"><tt>&nbsp&nbsp&nbsp&nbsp_&nbsp<br>&nbsp&nbsp&nbsp/&nbsp&nbsp<br>&nbsp####&nbsp<br>######<br>######<br>&nbsp####&nbsp</tt></font>"
      ],
      "text/plain": [
       "    _ \n",
       "   /  \n",
       " #### \n",
       "######\n",
       "######\n",
       " #### "
      ]
     },
     "execution_count": 5,
     "metadata": {},
     "output_type": "execute_result"
    }
   ],
   "source": [
    "# This is the way we tend to do things in Python these days:\n",
    "cripps_apple = NewApple()\n",
    "\n",
    "# Set the value directly, not with Java-esque setter methods.\n",
    "cripps_apple.color = 'pink'\n",
    "\n",
    "# Print the object normally.\n",
    "# Jupyter is smart and calls _repr_html_ to make it pretty.\n",
    "cripps_apple"
   ]
  },
  {
   "cell_type": "code",
   "execution_count": 6,
   "metadata": {},
   "outputs": [
    {
     "data": {
      "text/html": [
       "<font color=\"orange\"><tt>&nbsp&nbsp&nbsp&nbsp_&nbsp<br>&nbsp&nbsp&nbsp/&nbsp&nbsp<br>&nbsp####&nbsp<br>######<br>######<br>&nbsp####&nbsp</tt></font>"
      ],
      "text/plain": [
       "    _ \n",
       "   /  \n",
       " #### \n",
       "######\n",
       "######\n",
       " #### "
      ]
     },
     "execution_count": 6,
     "metadata": {},
     "output_type": "execute_result"
    }
   ],
   "source": [
    "# Alternatively, set the attribute when initializing the class.\n",
    "NewApple(color='orange')"
   ]
  },
  {
   "cell_type": "code",
   "execution_count": 7,
   "metadata": {},
   "outputs": [
    {
     "ename": "ValueError",
     "evalue": "'asdf' is not a valid color.",
     "output_type": "error",
     "traceback": [
      "\u001b[0;31m---------------------------------------------------------------------------\u001b[0m",
      "\u001b[0;31mValueError\u001b[0m                                Traceback (most recent call last)",
      "\u001b[0;32m<ipython-input-7-4a889c4ea62a>\u001b[0m in \u001b[0;36m<module>\u001b[0;34m\u001b[0m\n\u001b[1;32m      4\u001b[0m \u001b[0;34m\u001b[0m\u001b[0m\n\u001b[1;32m      5\u001b[0m \u001b[0mfake_apple\u001b[0m \u001b[0;34m=\u001b[0m \u001b[0mAltNewApple\u001b[0m\u001b[0;34m(\u001b[0m\u001b[0;34m)\u001b[0m\u001b[0;34m\u001b[0m\u001b[0;34m\u001b[0m\u001b[0m\n\u001b[0;32m----> 6\u001b[0;31m \u001b[0mfake_apple\u001b[0m\u001b[0;34m.\u001b[0m\u001b[0mcolor\u001b[0m \u001b[0;34m=\u001b[0m \u001b[0;34m'asdf'\u001b[0m\u001b[0;34m\u001b[0m\u001b[0;34m\u001b[0m\u001b[0m\n\u001b[0m",
      "\u001b[0;32m~/applelib_demo/applelib/experimental/v2.py\u001b[0m in \u001b[0;36mcolor\u001b[0;34m(self, color)\u001b[0m\n\u001b[1;32m     33\u001b[0m         \u001b[0;32melse\u001b[0m\u001b[0;34m:\u001b[0m\u001b[0;34m\u001b[0m\u001b[0;34m\u001b[0m\u001b[0m\n\u001b[1;32m     34\u001b[0m             raise ValueError(\n\u001b[0;32m---> 35\u001b[0;31m                 \u001b[0;34mf'{color.__repr__()} is not a valid color.'\u001b[0m\u001b[0;34m\u001b[0m\u001b[0;34m\u001b[0m\u001b[0m\n\u001b[0m\u001b[1;32m     36\u001b[0m             )\n\u001b[1;32m     37\u001b[0m \u001b[0;34m\u001b[0m\u001b[0m\n",
      "\u001b[0;31mValueError\u001b[0m: 'asdf' is not a valid color."
     ]
    }
   ],
   "source": [
    "# The `AltNewApple` class retains the input validation logic.\n",
    "\n",
    "# Below, I make the code fail intentionally:\n",
    "\n",
    "fake_apple = AltNewApple()\n",
    "fake_apple.color = 'asdf'"
   ]
  },
  {
   "cell_type": "code",
   "execution_count": null,
   "metadata": {},
   "outputs": [],
   "source": []
  }
 ],
 "metadata": {
  "kernelspec": {
   "display_name": "Python 3",
   "language": "python",
   "name": "python3"
  },
  "language_info": {
   "codemirror_mode": {
    "name": "ipython",
    "version": 3
   },
   "file_extension": ".py",
   "mimetype": "text/x-python",
   "name": "python",
   "nbconvert_exporter": "python",
   "pygments_lexer": "ipython3",
   "version": "3.7.6"
  }
 },
 "nbformat": 4,
 "nbformat_minor": 4
}
